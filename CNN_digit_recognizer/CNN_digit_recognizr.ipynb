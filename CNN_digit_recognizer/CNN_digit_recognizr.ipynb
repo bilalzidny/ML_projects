{
 "cells": [
  {
   "cell_type": "markdown",
   "metadata": {},
   "source": [
    "### The goal of this Notebook is to learn image classification using CNNs \n",
    "\n",
    "For this we will use a set of handwritten character digits from NIST database"
   ]
  },
  {
   "cell_type": "code",
   "execution_count": 2,
   "metadata": {},
   "outputs": [
    {
     "name": "stderr",
     "output_type": "stream",
     "text": [
      "c:\\Users\\user\\Anaconda3\\envs\\newenv\\lib\\site-packages\\torchvision\\io\\image.py:13: UserWarning: Failed to load image Python extension: '[WinError 127] La procédure spécifiée est introuvable'If you don't plan on using image functionality from `torchvision.io`, you can ignore this warning. Otherwise, there might be something wrong with your environment. Did you have `libjpeg` or `libpng` installed before building `torchvision` from source?\n",
      "  warn(\n"
     ]
    }
   ],
   "source": [
    "%matplotlib inline\n",
    "import math,sys,os,numpy as np\n",
    "from numpy.linalg import norm\n",
    "from matplotlib import pyplot as plt\n",
    "import torch\n",
    "import torchvision\n",
    "from torchvision import models,transforms,datasets"
   ]
  },
  {
   "cell_type": "code",
   "execution_count": 3,
   "metadata": {},
   "outputs": [
    {
     "data": {
      "text/plain": [
       "Dataset MNIST\n",
       "    Number of datapoints: 60000\n",
       "    Root location: ./data/MNIST/\n",
       "    Split: Train"
      ]
     },
     "execution_count": 3,
     "metadata": {},
     "output_type": "execute_result"
    }
   ],
   "source": [
    "root_dir = './data/MNIST/'\n",
    "torchvision.datasets.MNIST(root=root_dir,download=True)"
   ]
  },
  {
   "cell_type": "code",
   "execution_count": 4,
   "metadata": {},
   "outputs": [],
   "source": [
    "train_set = torchvision.datasets.MNIST(root=root_dir, train=True, download=True)"
   ]
  },
  {
   "cell_type": "code",
   "execution_count": 5,
   "metadata": {},
   "outputs": [],
   "source": [
    "MNIST_dataset = torch.utils.data.DataLoader(train_set, batch_size=1, shuffle=True, num_workers=1)"
   ]
  },
  {
   "cell_type": "markdown",
   "metadata": {},
   "source": [
    "#### We can format data as _numpy ndarrays_ which are easier to plot in matplotlib."
   ]
  },
  {
   "cell_type": "code",
   "execution_count": 6,
   "metadata": {},
   "outputs": [
    {
     "name": "stdout",
     "output_type": "stream",
     "text": [
      "(60000, 28, 28) (60000,)\n"
     ]
    }
   ],
   "source": [
    "images = train_set.data.numpy().astype(np.float32)/255\n",
    "labels = train_set.targets.numpy()\n",
    "\n",
    "print(images.shape,labels.shape)"
   ]
  },
  {
   "cell_type": "markdown",
   "metadata": {},
   "source": [
    "We define functions for plotting our image data"
   ]
  },
  {
   "cell_type": "code",
   "execution_count": 7,
   "metadata": {},
   "outputs": [],
   "source": [
    "# plot multiple images\n",
    "def plots(ims, interp=False, titles=None):\n",
    "    ims=np.array(ims)\n",
    "    mn,mx=ims.min(),ims.max()\n",
    "    f = plt.figure(figsize=(12,24))\n",
    "    for i in range(len(ims)):\n",
    "        sp=f.add_subplot(1, len(ims), i+1)\n",
    "        if not titles is None: sp.set_title(titles[i], fontsize=18)\n",
    "        plt.imshow(ims[i], interpolation=None if interp else 'none', vmin=mn,vmax=mx)\n",
    "\n",
    "# plot a single image\n",
    "def plot(im, interp=False):\n",
    "    f = plt.figure(figsize=(3,6), frameon=True)\n",
    "    plt.imshow(im, interpolation=None if interp else 'none')\n",
    "\n",
    "plt.gray()\n",
    "plt.close()"
   ]
  },
  {
   "cell_type": "code",
   "execution_count": 8,
   "metadata": {},
   "outputs": [
    {
     "data": {
      "image/png": "[encoded data removed]",
      "text/plain": [
       "<Figure size 1200x2400 with 3 Axes>"
      ]
     },
     "metadata": {},
     "output_type": "display_data"
    }
   ],
   "source": [
    "plots(np.array([images[20],images[21],images[22]]),titles=[labels[20],labels[21],labels[22]])"
   ]
  },
  {
   "cell_type": "markdown",
   "metadata": {},
   "source": [
    "### Understand Filters and Convolution"
   ]
  },
  {
   "cell_type": "markdown",
   "metadata": {},
   "source": [
    "Here we define simple 3x3 filters to see the effects of the convultion operation"
   ]
  },
  {
   "cell_type": "code",
   "execution_count": 9,
   "metadata": {},
   "outputs": [
    {
     "data": {
      "image/png": "[encoded data removed]",
      "text/plain": [
       "<Figure size 300x600 with 1 Axes>"
      ]
     },
     "metadata": {},
     "output_type": "display_data"
    }
   ],
   "source": [
    "top=[[-1,-1,-1],\n",
    "     [ 1, 1, 1],\n",
    "     [ 0, 0, 0]]\n",
    "\n",
    "plot(top)"
   ]
  },
  {
   "cell_type": "code",
   "execution_count": 10,
   "metadata": {},
   "outputs": [
    {
     "data": {
      "image/png": "[encoded data removed]",
      "text/plain": [
       "<Figure size 300x600 with 1 Axes>"
      ]
     },
     "metadata": {},
     "output_type": "display_data"
    }
   ],
   "source": [
    "cross = np.zeros((28,28))\n",
    "cross += np.eye(28)\n",
    "for i in range(4):\n",
    "    cross[12+i,:] = np.ones(28)\n",
    "    cross[:,12+i] = np.ones(28)\n",
    "\n",
    "plot(cross)"
   ]
  },
  {
   "cell_type": "code",
   "execution_count": 11,
   "metadata": {},
   "outputs": [
    {
     "name": "stderr",
     "output_type": "stream",
     "text": [
      "C:\\Users\\user\\AppData\\Local\\Temp\\ipykernel_17460\\648623620.py:1: DeprecationWarning: Please import `convolve` from the `scipy.ndimage` namespace; the `scipy.ndimage.filters` namespace is deprecated and will be removed in SciPy 2.0.0.\n",
      "  from scipy.ndimage.filters import convolve, correlate\n",
      "C:\\Users\\user\\AppData\\Local\\Temp\\ipykernel_17460\\648623620.py:1: DeprecationWarning: Please import `correlate` from the `scipy.ndimage` namespace; the `scipy.ndimage.filters` namespace is deprecated and will be removed in SciPy 2.0.0.\n",
      "  from scipy.ndimage.filters import convolve, correlate\n"
     ]
    },
    {
     "data": {
      "image/png": "[encoded data removed]",
      "text/plain": [
       "<Figure size 300x600 with 1 Axes>"
      ]
     },
     "metadata": {},
     "output_type": "display_data"
    }
   ],
   "source": [
    "from scipy.ndimage.filters import convolve, correlate\n",
    "\n",
    "corr_cross = correlate(cross,top)\n",
    "\n",
    "plot(corr_cross)"
   ]
  },
  {
   "cell_type": "markdown",
   "metadata": {},
   "source": [
    "Now we check with different more complex filters "
   ]
  },
  {
   "cell_type": "code",
   "execution_count": 26,
   "metadata": {},
   "outputs": [
    {
     "data": {
      "image/png": "[encoded data removed]",
      "text/plain": [
       "<Figure size 1200x2400 with 4 Axes>"
      ]
     },
     "metadata": {},
     "output_type": "display_data"
    },
    {
     "data": {
      "image/png": "[encoded data removed]",
      "text/plain": [
       "<Figure size 1200x2400 with 4 Axes>"
      ]
     },
     "metadata": {},
     "output_type": "display_data"
    }
   ],
   "source": [
    "straights=[np.rot90(top,i) for i in range(4)]\n",
    "plots(straights)\n",
    "br=[[ 0, 0, 1],\n",
    "    [ 0, 1,-1.5],\n",
    "    [ 1,-1.5, 0]]\n",
    "\n",
    "diags = [np.rot90(br,i) for i in range(4)]\n",
    "plots(diags)"
   ]
  },
  {
   "cell_type": "markdown",
   "metadata": {},
   "source": [
    "We compose theses filters"
   ]
  },
  {
   "cell_type": "code",
   "execution_count": 62,
   "metadata": {},
   "outputs": [
    {
     "data": {
      "image/png": "[encoded data removed]",
      "text/plain": [
       "<Figure size 1200x2400 with 8 Axes>"
      ]
     },
     "metadata": {},
     "output_type": "display_data"
    }
   ],
   "source": [
    "filters = straights + diags\n",
    "corrs_cross = [correlate(cross, filter) for filter in filters]\n",
    "plots(corrs_cross)"
   ]
  },
  {
   "cell_type": "markdown",
   "metadata": {},
   "source": [
    "Let's see what we have on an image"
   ]
  },
  {
   "cell_type": "code",
   "execution_count": 63,
   "metadata": {},
   "outputs": [
    {
     "data": {
      "image/png": "[encoded data removed]",
      "text/plain": [
       "<Figure size 1200x2400 with 8 Axes>"
      ]
     },
     "metadata": {},
     "output_type": "display_data"
    }
   ],
   "source": [
    "corrs = [correlate(images[5000],filter) for filter in filters]\n",
    "plots(corrs)"
   ]
  },
  {
   "cell_type": "markdown",
   "metadata": {},
   "source": [
    "Next we illustrate the effect of downsampling.\n",
    "We select the most basic downsampling technique: __max pooling__. We keep only the maximum value for sliding windows of size ```7x7```.\n",
    "__Max pooling__ is a handy technique with a few useful benefits:\n",
    "- since it selects the maximum values it ensures invariance to translations\n",
    "- reducing the size is helpful since data becomes more compact and easier to compare\n",
    "- since max pooling reduces the size of our images, the operations performed later on in the network have bigger receptive field / concern a bigger patch in the input image and allow the discovery of higher level patterns."
   ]
  },
  {
   "cell_type": "code",
   "execution_count": 55,
   "metadata": {},
   "outputs": [
    {
     "data": {
      "image/png": "[encoded data removed]",
      "text/plain": [
       "<Figure size 1200x2400 with 8 Axes>"
      ]
     },
     "metadata": {},
     "output_type": "display_data"
    }
   ],
   "source": [
    "import skimage\n",
    "\n",
    "from skimage.measure import block_reduce\n",
    "\n",
    "def pool(im): return block_reduce(im, (7,7), np.max)\n",
    "\n",
    "plots([pool(im) for im in corrs])"
   ]
  },
  {
   "cell_type": "markdown",
   "metadata": {},
   "source": [
    "We now build a classifier with convolutions.\n",
    "\n",
    "To this end we select a set of training images depicting _sixes_ and _ones_, we convolve them with our set of filters, pool them and average them for each class and filter. We will thus obtain a set of _representative_ signatures for _sixes_ and for _ones_. \n",
    "Given a new test image we compute its features by convolution and pooling with the same filters and then compare them with the _representative_ features. The class with the most _similar_ features is chosen as prediction.\n",
    "\n",
    "\n",
    "We keep 1000 images of _sixes_ for the test set and use the remaining ones for the training: we convolve them with our bank of filters, perform max pooling on the responses and store them in ```pool6```."
   ]
  },
  {
   "cell_type": "code",
   "execution_count": 103,
   "metadata": {},
   "outputs": [
    {
     "data": {
      "text/plain": [
       "(5918, 6742)"
      ]
     },
     "execution_count": 103,
     "metadata": {},
     "output_type": "execute_result"
    }
   ],
   "source": [
    "n=len(images)\n",
    "sixes=[images[i] for i in range(n) if labels[i]==6]\n",
    "ones=[images[i] for i in range(n) if labels[i]==1]\n",
    "\n",
    "len(sixes),len(ones)"
   ]
  },
  {
   "cell_type": "code",
   "execution_count": 106,
   "metadata": {},
   "outputs": [],
   "source": [
    "pool6 = [np.array([pool(correlate(im, filter)) for im in sixes[1000:]]) for filter in filters]\n",
    "pool1 = [np.array([pool(correlate(im, filter)) for im in ones[1000:]]) for filter in filters]"
   ]
  },
  {
   "cell_type": "code",
   "execution_count": 107,
   "metadata": {},
   "outputs": [
    {
     "data": {
      "text/plain": [
       "(8, (4918, 4, 4))"
      ]
     },
     "execution_count": 107,
     "metadata": {},
     "output_type": "execute_result"
    }
   ],
   "source": [
    "len(pool6),pool6[0].shape"
   ]
  },
  {
   "cell_type": "markdown",
   "metadata": {},
   "source": [
    "Next we compute the average _seven_ and _one_ by averaging all responses for each filter from _filters_.\n",
    "\n",
    "We should obtain a set of canonical _sevens_ and _ones_ responses for each filter."
   ]
  },
  {
   "cell_type": "code",
   "execution_count": 108,
   "metadata": {},
   "outputs": [
    {
     "data": {
      "image/png": "[encoded data removed]",
      "text/plain": [
       "<Figure size 1200x2400 with 8 Axes>"
      ]
     },
     "metadata": {},
     "output_type": "display_data"
    },
    {
     "data": {
      "image/png": "[encoded data removed]",
      "text/plain": [
       "<Figure size 1200x2400 with 8 Axes>"
      ]
     },
     "metadata": {},
     "output_type": "display_data"
    }
   ],
   "source": [
    "filts6 = np.array([ims.mean(axis=0) for ims in pool6])\n",
    "filts1 = np.array([ims.mean(axis=0) for ims in pool1])\n",
    "\n",
    "plots(filts6)\n",
    "plots(filts1)"
   ]
  },
  {
   "cell_type": "markdown",
   "metadata": {},
   "source": [
    "We can see that _filts1_ is pretty consistent with the shape of a _one_ image with no consideration of the very left and right pixel columns"
   ]
  },
  {
   "cell_type": "markdown",
   "metadata": {},
   "source": [
    "Now we define a function that correlates a given image with all filters from ```filters``` and max pools the responses."
   ]
  },
  {
   "cell_type": "code",
   "execution_count": 109,
   "metadata": {},
   "outputs": [],
   "source": [
    "def pool_corr(im): return np.array([pool(correlate(im, filter)) for filter in filters])"
   ]
  },
  {
   "cell_type": "code",
   "execution_count": 110,
   "metadata": {},
   "outputs": [
    {
     "data": {
      "image/png": "[encoded data removed]",
      "text/plain": [
       "<Figure size 1200x2400 with 8 Axes>"
      ]
     },
     "metadata": {},
     "output_type": "display_data"
    }
   ],
   "source": [
    "plots(pool_corr(sixes[1000]))"
   ]
  },
  {
   "cell_type": "markdown",
   "metadata": {},
   "source": [
    "We define now a function which one of the two classes is most likely given the sse distances between the correlated ofthe image with all the filters and the canonical filters"
   ]
  },
  {
   "cell_type": "code",
   "execution_count": 138,
   "metadata": {},
   "outputs": [],
   "source": [
    "# sum of squared distance\n",
    "def sse(a,b): return ((a-b)**2).sum()\n",
    "\n",
    "# is7 returns 1 if it thinks it's a seven and 0 otherwise\n",
    "def is6(im): return 1 if sse(pool_corr(im),filts1) > sse(pool_corr(im),filts6) else 0"
   ]
  },
  {
   "cell_type": "markdown",
   "metadata": {},
   "source": [
    "We perform a check to see if our function actually works. We correlate an image of _eight_ with ```filts6``` and ```filts1```. It should give smaller distance for the _sixes_"
   ]
  },
  {
   "cell_type": "code",
   "execution_count": 136,
   "metadata": {},
   "outputs": [
    {
     "data": {
      "text/plain": [
       "(11.102158, 53.825996)"
      ]
     },
     "execution_count": 136,
     "metadata": {},
     "output_type": "execute_result"
    }
   ],
   "source": [
    "sse(pool_corr(sixes[0]), filts6), sse(pool_corr(sixes[0]), filts1)"
   ]
  },
  {
   "cell_type": "markdown",
   "metadata": {},
   "source": [
    "We now test our classifier on the 1000 images of _sevens_ and 1000 images of _ones_"
   ]
  },
  {
   "cell_type": "code",
   "execution_count": 139,
   "metadata": {},
   "outputs": [
    {
     "name": "stdout",
     "output_type": "stream",
     "text": [
      "accuracy : 0.971\n"
     ]
    }
   ],
   "source": [
    "nb_6_predicted_6 = np.array([is6(im) for im in sixes[:1000]]).sum()\n",
    "nb_1_predicted_1 = np.array([(1-is6(im)) for im in ones[:1000]]).sum()\n",
    "\n",
    "\n",
    "acc_1 = nb_1_predicted_1/1000\n",
    "acc_6 = nb_6_predicted_6/1000\n",
    "acc = (acc_1 + acc_6)/2\n",
    "\n",
    "print('accuracy :', acc)"
   ]
  },
  {
   "cell_type": "markdown",
   "metadata": {},
   "source": [
    "Let's just build the confusion matrix"
   ]
  },
  {
   "cell_type": "code",
   "execution_count": 140,
   "metadata": {},
   "outputs": [],
   "source": [
    "true_positives=nb_6_predicted_6\n",
    "false_positives=np.array([is6(im) for im in ones[:1000]]).sum()\n",
    "true_negatives=nb_1_predicted_1 \n",
    "false_negatives=np.array([1-is6(im) for im in sixes[:1000]]).sum()"
   ]
  },
  {
   "cell_type": "code",
   "execution_count": 146,
   "metadata": {},
   "outputs": [
    {
     "data": {
      "image/png": "[encoded data removed]",
      "text/plain": [
       "<Figure size 800x400 with 1 Axes>"
      ]
     },
     "metadata": {},
     "output_type": "display_data"
    }
   ],
   "source": [
    "import seaborn as sns\n",
    "\n",
    "# Construct the confusion matrix\n",
    "def confusion_matrix(true_positives,false_negatives,false_positives,true_negatives):\n",
    "    confusion_matrix = np.array([[true_positives, false_negatives],  # Row for true 7s\n",
    "                                [false_positives, true_negatives]])  # Row for true 1s\n",
    "\n",
    "    # Plotting\n",
    "    plt.figure(figsize=(8, 4))\n",
    "    sns.heatmap(confusion_matrix, annot=True, fmt='d', cmap='Blues', cbar=False,\n",
    "                xticklabels=[\"Predicted 6\", \"Predicted 1\"],\n",
    "                yticklabels=[\"Actual 6\", \"Actual 1\"])\n",
    "    plt.xlabel(\"Predicted Label\")\n",
    "    plt.ylabel(\"True Label\")\n",
    "    plt.title(\"Confusion Matrix\")\n",
    "    plt.show()\n",
    "\n",
    "confusion_matrix(true_positives,false_negatives,false_positives,true_negatives)"
   ]
  },
  {
   "cell_type": "markdown",
   "metadata": {},
   "source": [
    "We have successfully built a classifier for _sevens_ and _ones_ using features extracted with a hand-crafted bank of filters and a set of training samples. "
   ]
  },
  {
   "cell_type": "markdown",
   "metadata": {},
   "source": [
    "Let's just test what the classifier predicts when we have another number than just six and one :\n",
    "\n",
    "Since we know an ```8``` is closer to a ```6``` in shape than to a ```1``` because of the loop, we expect our classifier to predict mostly _sixes_ for the _eights_"
   ]
  },
  {
   "cell_type": "code",
   "execution_count": 149,
   "metadata": {},
   "outputs": [],
   "source": [
    "eights=[images[i] for i in range(n) if labels[i]==8]\n",
    "nb_8_predicted_6 = np.array([is6(im) for im in eights]).sum()\n",
    "nb_8_predicted_1 = np.array([1-is6(im) for im in eights]).sum()"
   ]
  },
  {
   "cell_type": "code",
   "execution_count": 158,
   "metadata": {},
   "outputs": [
    {
     "name": "stdout",
     "output_type": "stream",
     "text": [
      "5851 5249 602 \n",
      "\n",
      "\n",
      "The percentage of 8 predicted as 6 is : 89 %\n"
     ]
    }
   ],
   "source": [
    "print(len(eights),nb_8_predicted_6,nb_8_predicted_1,'\\n\\n')\n",
    "\n",
    "print(f'The percentage of 8 predicted as 6 is : {nb_8_predicted_6*100//len(eights)} %')"
   ]
  },
  {
   "cell_type": "markdown",
   "metadata": {},
   "source": [
    "## Improving classification with convolutional neural networks\n",
    "\n",
    "We now build a neural net that will learn the filters.\n",
    "\n",
    "The first layer of the network will be a convolutional layer with $8$ filters of size $3\\times 3$. We choose padding such that the output feature maps have a size of $28 \\times 28$. Then we apply a Max Pooling layer to reduce the size of the image to $4\\times 4$ as we did above. This will produce (once flatten) a vector of size $128 = 4\\times 4\\times 8$. From this vector, we want to predict if the corresponding input is a $1$ or a $6$."
   ]
  },
  {
   "cell_type": "code",
   "execution_count": 227,
   "metadata": {},
   "outputs": [],
   "source": [
    "import torch.nn as nn\n",
    "import torch.nn.functional as F\n",
    "\n",
    "class classifier(nn.Module):\n",
    "    \n",
    "    def __init__(self):\n",
    "        super(classifier, self).__init__()\n",
    "\n",
    "        self.conv1 = nn.Conv2d(in_channels=1, out_channels=8, kernel_size=3, padding=1) # conv layer\n",
    "        self.mp1 = nn.MaxPool2d(kernel_size=7) # max pooling\n",
    "        self.fc = nn.Linear(in_features=128, out_features=1) # fully-connected layer\n",
    "        self.sigmoid = nn.Sigmoid()\n",
    "\n",
    "    def forward(self,x):\n",
    "        \n",
    "        x=self.conv1(x)\n",
    "        x=self.mp1(x)\n",
    "        x = torch.flatten(x, start_dim=1)\n",
    "        x=self.fc(x)\n",
    "        x=self.sigmoid(x)\n",
    "\n",
    "        return x"
   ]
  },
  {
   "cell_type": "code",
   "execution_count": 228,
   "metadata": {},
   "outputs": [],
   "source": [
    "conv_class = classifier()"
   ]
  },
  {
   "cell_type": "markdown",
   "metadata": {},
   "source": [
    "Our code should work fine on a batch of 3 images."
   ]
  },
  {
   "cell_type": "code",
   "execution_count": 229,
   "metadata": {},
   "outputs": [
    {
     "name": "stdout",
     "output_type": "stream",
     "text": [
      "torch.Size([3, 1])\n"
     ]
    }
   ],
   "source": [
    "batch_3images = train_set.data[0:2].type(torch.FloatTensor).resize_(3, 1, 28, 28)\n",
    "out = conv_class(batch_3images)\n",
    "print(out.shape)"
   ]
  },
  {
   "cell_type": "markdown",
   "metadata": {},
   "source": [
    "Let's build the datasets and the dataloaders"
   ]
  },
  {
   "cell_type": "code",
   "execution_count": 332,
   "metadata": {},
   "outputs": [],
   "source": [
    "bs = 64 # batch size\n",
    "\n",
    "l6 = np.array(0) # label for sixes\n",
    "sixes_dataset = [[torch.from_numpy(e.astype(np.float32)).unsqueeze(0), \n",
    "                   torch.from_numpy(l6.astype(np.float32))] for e in sixes] # input images of sixes\n",
    "\n",
    "l1 = np.array(1) # label for ones\n",
    "ones_dataset = [[torch.from_numpy(e.astype(np.float32)).unsqueeze(0), \n",
    "                 torch.from_numpy(l1.astype(np.float32))] for e in ones] # input images of ones\n",
    "\n",
    "train_dataset = sixes_dataset[1000:] + ones_dataset[1000:]\n",
    "test_dataset = sixes_dataset[:1000] + ones_dataset[:1000]\n",
    "\n",
    "train_loader = torch.utils.data.DataLoader(train_dataset, batch_size=bs, shuffle=True)\n",
    "\n",
    "test_loader = torch.utils.data.DataLoader(test_dataset, batch_size=bs, shuffle=True)"
   ]
  },
  {
   "cell_type": "markdown",
   "metadata": {},
   "source": [
    "We now define the train function. We store the loss and accuracy for each epoch. To compute the number of correct predictions, we simply threshold the output of your network and compare with the labels."
   ]
  },
  {
   "cell_type": "code",
   "execution_count": 286,
   "metadata": {},
   "outputs": [],
   "source": [
    "def train(model, data_loader, loss_fn, optimizer, n_epochs=1, scheduler=None):\n",
    "    \n",
    "    model.train(True)\n",
    "    \n",
    "    loss_train = np.zeros(n_epochs)\n",
    "    acc_train = np.zeros(n_epochs)\n",
    "    \n",
    "    for epoch_num in range(n_epochs):\n",
    "        \n",
    "        running_corrects = 0.0  # Number of correct predictions\n",
    "        running_loss = 0.0      # Loss\n",
    "        size = 0\n",
    "\n",
    "        for data in data_loader:\n",
    "            \n",
    "            inputs, labels = data\n",
    "            labels = labels.unsqueeze(1)\n",
    "            bs = labels.size(0)\n",
    "\n",
    "            # Reset the stored gradients for the parameters of the neural network\n",
    "            model.zero_grad() \n",
    "\n",
    "            # Forward pass\n",
    "            outputs = model(inputs)\n",
    "\n",
    "            # Compute the loss\n",
    "            loss = loss_fn(outputs, labels) \n",
    "\n",
    "            # Backward pass\n",
    "            loss.backward() \n",
    "\n",
    "            # Gradient descent step\n",
    "            optimizer.step()\n",
    "\n",
    "            running_loss += loss.item() * bs\n",
    "            preds = (outputs >= 0.5).type(torch.float32)\n",
    "            running_corrects += torch.sum(preds == labels)\n",
    "            \n",
    "            # Count the number of samples\n",
    "            size += bs\n",
    "            \n",
    "        # Calculate the loss and accuracy for this epoch\n",
    "        epoch_loss = running_loss / size\n",
    "        epoch_acc = running_corrects.item() / size\n",
    "        \n",
    "        loss_train[epoch_num] = epoch_loss\n",
    "        acc_train[epoch_num] = epoch_acc\n",
    "        \n",
    "        print('Epoch {} - Loss: {:.4f} Acc: {:.4f}'.format(epoch_num+1, epoch_loss, epoch_acc))\n",
    "\n",
    "        # Step the scheduler at the end of the epoch, if a scheduler is provided\n",
    "        if scheduler:\n",
    "            scheduler.step()\n",
    "\n",
    "    return loss_train, acc_train\n"
   ]
  },
  {
   "cell_type": "code",
   "execution_count": 287,
   "metadata": {},
   "outputs": [
    {
     "name": "stdout",
     "output_type": "stream",
     "text": [
      "Epoch 1 - Loss: 0.1128 Acc: 0.9690\n",
      "Epoch 2 - Loss: 0.0168 Acc: 0.9950\n",
      "Epoch 3 - Loss: 0.0098 Acc: 0.9967\n",
      "Epoch 4 - Loss: 0.0088 Acc: 0.9970\n",
      "Epoch 5 - Loss: 0.0061 Acc: 0.9982\n",
      "Epoch 6 - Loss: 0.0059 Acc: 0.9985\n",
      "Epoch 7 - Loss: 0.0052 Acc: 0.9983\n",
      "Epoch 8 - Loss: 0.0052 Acc: 0.9980\n",
      "Epoch 9 - Loss: 0.0046 Acc: 0.9982\n",
      "Epoch 10 - Loss: 0.0040 Acc: 0.9988\n",
      "Epoch 11 - Loss: 0.0035 Acc: 0.9989\n",
      "Epoch 12 - Loss: 0.0036 Acc: 0.9986\n",
      "Epoch 13 - Loss: 0.0028 Acc: 0.9990\n",
      "Epoch 14 - Loss: 0.0022 Acc: 0.9995\n",
      "Epoch 15 - Loss: 0.0038 Acc: 0.9990\n",
      "Epoch 16 - Loss: 0.0026 Acc: 0.9992\n",
      "Epoch 17 - Loss: 0.0034 Acc: 0.9985\n",
      "Epoch 18 - Loss: 0.0017 Acc: 0.9996\n",
      "Epoch 19 - Loss: 0.0032 Acc: 0.9988\n",
      "Epoch 20 - Loss: 0.0021 Acc: 0.9992\n",
      "Epoch 21 - Loss: 0.0021 Acc: 0.9992\n",
      "Epoch 22 - Loss: 0.0018 Acc: 0.9992\n",
      "Epoch 23 - Loss: 0.0022 Acc: 0.9991\n",
      "Epoch 24 - Loss: 0.0019 Acc: 0.9994\n",
      "Epoch 25 - Loss: 0.0017 Acc: 0.9994\n",
      "Epoch 26 - Loss: 0.0020 Acc: 0.9990\n",
      "Epoch 27 - Loss: 0.0015 Acc: 0.9995\n",
      "Epoch 28 - Loss: 0.0028 Acc: 0.9991\n",
      "Epoch 29 - Loss: 0.0015 Acc: 0.9994\n",
      "Epoch 30 - Loss: 0.0012 Acc: 0.9996\n",
      "Epoch 31 - Loss: 0.0012 Acc: 0.9996\n",
      "Epoch 32 - Loss: 0.0017 Acc: 0.9992\n",
      "Epoch 33 - Loss: 0.0008 Acc: 0.9998\n",
      "Epoch 34 - Loss: 0.0017 Acc: 0.9992\n",
      "Epoch 35 - Loss: 0.0017 Acc: 0.9993\n",
      "Epoch 36 - Loss: 0.0008 Acc: 0.9998\n",
      "Epoch 37 - Loss: 0.0006 Acc: 0.9999\n",
      "Epoch 38 - Loss: 0.0005 Acc: 1.0000\n",
      "Epoch 39 - Loss: 0.0004 Acc: 1.0000\n",
      "Epoch 40 - Loss: 0.0020 Acc: 0.9994\n"
     ]
    }
   ],
   "source": [
    "from torch.optim.lr_scheduler import StepLR  \n",
    "conv_class = classifier()\n",
    "\n",
    "# an appropriate loss\n",
    "loss_fn = nn.BCELoss(reduction='mean')\n",
    "\n",
    "# the optimizer\n",
    "learning_rate = 1e-2\n",
    "optimizer_cl = torch.optim.Adam(conv_class.parameters(), lr=learning_rate)\n",
    "\n",
    "# number of epochs\n",
    "n_epochs = 40\n",
    "\n",
    "# scheduler \n",
    "scheduler=StepLR(optimizer=optimizer_cl,step_size=10,gamma=0.9)\n",
    "\n",
    "# and train\n",
    "training_loss, training_acc = train(conv_class,train_loader,loss_fn,optimizer_cl,n_epochs = n_epochs,scheduler=scheduler)"
   ]
  },
  {
   "cell_type": "code",
   "execution_count": 290,
   "metadata": {},
   "outputs": [
    {
     "data": {
      "text/plain": [
       "Text(0, 0.5, 'BCE loss')"
      ]
     },
     "execution_count": 290,
     "metadata": {},
     "output_type": "execute_result"
    },
    {
     "data": {
      "image/png": "[encoded data removed]",
      "text/plain": [
       "<Figure size 640x480 with 1 Axes>"
      ]
     },
     "metadata": {},
     "output_type": "display_data"
    }
   ],
   "source": [
    "plt.plot(training_loss)\n",
    "plt.xlabel('epoch')\n",
    "plt.ylabel('BCE loss')"
   ]
  },
  {
   "cell_type": "code",
   "execution_count": 292,
   "metadata": {},
   "outputs": [
    {
     "data": {
      "text/plain": [
       "Text(0, 0.5, 'accuracy')"
      ]
     },
     "execution_count": 292,
     "metadata": {},
     "output_type": "execute_result"
    },
    {
     "data": {
      "image/png": "[encoded data removed]",
      "text/plain": [
       "<Figure size 640x480 with 1 Axes>"
      ]
     },
     "metadata": {},
     "output_type": "display_data"
    }
   ],
   "source": [
    "plt.plot(training_acc)\n",
    "plt.xlabel('epoch')\n",
    "plt.ylabel('accuracy')"
   ]
  },
  {
   "cell_type": "markdown",
   "metadata": {},
   "source": [
    "Our network seems to learn but we now need to check its accuracy on the test set."
   ]
  },
  {
   "cell_type": "code",
   "execution_count": 293,
   "metadata": {},
   "outputs": [],
   "source": [
    "def test(model,data_loader):\n",
    "    \n",
    "    model.train(False)\n",
    "\n",
    "    running_corrects = 0.0\n",
    "    running_loss = 0.0\n",
    "    size = 0\n",
    "\n",
    "    for data in data_loader:\n",
    "        \n",
    "        inputs, labels = data\n",
    "        labels = labels.unsqueeze(1)\n",
    "        bs = labels.size(0)\n",
    "\n",
    "        # reset the stored gradients for the parameters of the neural network\n",
    "        model.zero_grad() \n",
    "\n",
    "        # do the forward pass\n",
    "        outputs = model(inputs)\n",
    "\n",
    "        # compute the loss on the training set\n",
    "        loss = loss_fn(outputs, labels)    \n",
    "        \n",
    "        # store loss and compute num. of correct predictions\n",
    "        running_loss += loss\n",
    "        preds = (outputs >= 0.5).type(torch.float32)\n",
    "        running_corrects += torch.sum(preds == labels)\n",
    "\n",
    "        size += bs\n",
    "\n",
    "    print('Test - Loss: {:.4f} Acc: {:.4f}'.format(running_loss / size, running_corrects.item() / size))"
   ]
  },
  {
   "cell_type": "code",
   "execution_count": 295,
   "metadata": {},
   "outputs": [
    {
     "name": "stdout",
     "output_type": "stream",
     "text": [
      "Test - Loss: 0.0002 Acc: 0.9970\n"
     ]
    }
   ],
   "source": [
    "test(conv_class,test_loader)"
   ]
  },
  {
   "cell_type": "markdown",
   "metadata": {},
   "source": [
    "We have slightly improved the performance compared with the handcrafted set of filters."
   ]
  },
  {
   "cell_type": "markdown",
   "metadata": {},
   "source": [
    "Let's verify the number of parameters our network learned"
   ]
  },
  {
   "cell_type": "code",
   "execution_count": 326,
   "metadata": {},
   "outputs": [
    {
     "name": "stdout",
     "output_type": "stream",
     "text": [
      "The number of parameters learned is : 209\n"
     ]
    }
   ],
   "source": [
    "print(f'The number of parameters learned is : {np.array([x.flatten().size()[0] for x in list(conv_class.parameters())]).sum()}')"
   ]
  },
  {
   "cell_type": "markdown",
   "metadata": {},
   "source": [
    "We can see the learned filters as follows:"
   ]
  },
  {
   "cell_type": "code",
   "execution_count": 330,
   "metadata": {},
   "outputs": [],
   "source": [
    "for p in conv_class.parameters():\n",
    "    T_w = p.data.numpy()\n",
    "    break"
   ]
  },
  {
   "cell_type": "code",
   "execution_count": 331,
   "metadata": {},
   "outputs": [
    {
     "data": {
      "image/png": "[encoded data removed]",
      "text/plain": [
       "<Figure size 1200x2400 with 8 Axes>"
      ]
     },
     "metadata": {},
     "output_type": "display_data"
    }
   ],
   "source": [
    "plots([T_w[i][0] for i in range(8)])"
   ]
  }
 ],
 "metadata": {
  "kernelspec": {
   "display_name": "newenv",
   "language": "python",
   "name": "python3"
  },
  "language_info": {
   "codemirror_mode": {
    "name": "ipython",
    "version": 3
   },
   "file_extension": ".py",
   "mimetype": "text/x-python",
   "name": "python",
   "nbconvert_exporter": "python",
   "pygments_lexer": "ipython3",
   "version": "3.10.14"
  }
 },
 "nbformat": 4,
 "nbformat_minor": 2
}
